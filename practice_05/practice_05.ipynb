{
  "nbformat": 4,
  "nbformat_minor": 0,
  "metadata": {
    "colab": {
      "provenance": []
    },
    "kernelspec": {
      "name": "python3",
      "display_name": "Python 3"
    },
    "language_info": {
      "name": "python"
    }
  },
  "cells": [
    {
      "cell_type": "code",
      "execution_count": 11,
      "metadata": {
        "colab": {
          "base_uri": "https://localhost:8080/"
        },
        "id": "W5X_fXYJgfV8",
        "outputId": "d31e0b40-47fe-41d8-a8b0-edae4b948c2a"
      },
      "outputs": [
        {
          "output_type": "stream",
          "name": "stdout",
          "text": [
            "テスト4\n"
          ]
        }
      ],
      "source": [
        "#項目1 クォーテーションを用いて3行コメントしてみましょう\n",
        "\"\"\"\n",
        "コメントテスト1\n",
        "コメントテスト2\n",
        "コメントテスト3\n",
        "\"\"\"\n",
        "print(\"テスト4\")\n"
      ]
    },
    {
      "cell_type": "code",
      "source": [
        "#項目2 何かしらの数値と文字を含めてprintしてみましょう\n",
        "print(\"テスト\" +  str(5))"
      ],
      "metadata": {
        "colab": {
          "base_uri": "https://localhost:8080/"
        },
        "id": "0PxCNd4thnt2",
        "outputId": "f9575c9d-51ee-45aa-bedf-c5154d325898"
      },
      "execution_count": 10,
      "outputs": [
        {
          "output_type": "stream",
          "name": "stdout",
          "text": [
            "テスト5\n"
          ]
        }
      ]
    },
    {
      "cell_type": "code",
      "source": [
        "\"\"\"\n",
        "項目3\n",
        "以下の文章を出力してください。その際、数値は+とstrを用いて文字列へ変換してください\n",
        "10から1を引くと9になります。\n",
        "\"\"\"\n",
        "print(str(10) + \"から\" + str(1) + \"を引くと\" + str(9) + \"になります。\")"
      ],
      "metadata": {
        "colab": {
          "base_uri": "https://localhost:8080/"
        },
        "id": "wiAX9_6KijNB",
        "outputId": "5a824ec7-e763-4813-fa24-9cc8ba8d153b"
      },
      "execution_count": 13,
      "outputs": [
        {
          "output_type": "stream",
          "name": "stdout",
          "text": [
            "10から1を引くと9になります。\n"
          ]
        }
      ]
    },
    {
      "cell_type": "code",
      "source": [
        "'''\n",
        "項目4\n",
        "以下の100と30を変数に格納し、以下の結果を出力してください。その際、fを用いてください。\n",
        "100から30を引くと70になる。\n",
        "'''\n",
        "print(f\"{100}から{30}を引くと{70}になる。\")"
      ],
      "metadata": {
        "colab": {
          "base_uri": "https://localhost:8080/"
        },
        "id": "CIv6JLVLjZH6",
        "outputId": "0cf492a6-65ff-4bba-beff-18c705f46b2f"
      },
      "execution_count": 14,
      "outputs": [
        {
          "output_type": "stream",
          "name": "stdout",
          "text": [
            "100から30を引くと70になる。\n"
          ]
        }
      ]
    },
    {
      "cell_type": "code",
      "source": [
        "'''\n",
        "項目5\n",
        "以下をスネークケースで変数名定義してください\n",
        "家族の人数\n",
        "算数の点数\n",
        "子供の名前\n",
        "'''\n",
        "family_member = 1\n",
        "math_score = 80\n",
        "child_name = \"Taro\"\n",
        "\n",
        "print(family_member)\n",
        "print(math_score)\n",
        "print(child_name)\n"
      ],
      "metadata": {
        "colab": {
          "base_uri": "https://localhost:8080/"
        },
        "id": "j5SDxz1Kj23d",
        "outputId": "0e950739-86d4-45a6-9fe8-4da113e6df1c"
      },
      "execution_count": 18,
      "outputs": [
        {
          "output_type": "stream",
          "name": "stdout",
          "text": [
            "1\n",
            "80\n",
            "Taro\n"
          ]
        }
      ]
    },
    {
      "cell_type": "code",
      "source": [
        "'''\n",
        "項目6\n",
        "3つの変数を用いて文字列と数値２つを代入する\n",
        "f-stringを用いてすべてをアンダーバーで結合した結果を出力する\n",
        "'''\n",
        "place = \"kyoto\"\n",
        "year = 2024\n",
        "month = 4\n",
        "\n",
        "print(f\"{place}_{year}_{month}\")"
      ],
      "metadata": {
        "colab": {
          "base_uri": "https://localhost:8080/"
        },
        "id": "GlsW3A2hmUaG",
        "outputId": "9056d177-306f-43f6-cdc5-4aa67e46b7c3"
      },
      "execution_count": 22,
      "outputs": [
        {
          "output_type": "stream",
          "name": "stdout",
          "text": [
            "kyoto_2024_4\n"
          ]
        }
      ]
    },
    {
      "cell_type": "code",
      "source": [
        "'''\n",
        "項目7\n",
        "変数に四則演算の結果を格納する(varA1～VarA5とする, ただし適切な名前に変更すること)\n",
        "変数に四則演算の何を実施するか文字列で格納する(varBとする, ただし適切な名前に変更すること)\n",
        "fを用いて\"加算の結果は40です\"のように出力する。加算や結果の数値は変数で出力すること\n",
        "'''\n",
        "add_result = 37 + 3\n",
        "sub_result = 37 - 3\n",
        "mul_result = 37 * 3\n",
        "div_result = 37 / 3\n",
        "mod_result = 37 % 3\n",
        "add = \"加算\"\n",
        "sub = \"減算\"\n",
        "mul = \"乗算\"\n",
        "div = \"除算\"\n",
        "mod = \"剰余算\"\n",
        "print(f\"{add}の結果は{add_result}です\")\n",
        "\n",
        "calculate = \"add\"\n",
        "print(f\"{eval(calculate)}の結果は{eval(calculate + '_result') }です\")\n"
      ],
      "metadata": {
        "colab": {
          "base_uri": "https://localhost:8080/"
        },
        "id": "77vuT3Pvogbh",
        "outputId": "2432011c-8bc8-413b-b863-6f7e9e2956c8"
      },
      "execution_count": 49,
      "outputs": [
        {
          "output_type": "stream",
          "name": "stdout",
          "text": [
            "加算の結果は40です\n",
            "加算の結果は40です\n"
          ]
        }
      ]
    }
  ]
}