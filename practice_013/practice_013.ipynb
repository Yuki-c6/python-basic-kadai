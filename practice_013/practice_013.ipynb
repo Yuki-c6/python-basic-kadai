{
  "nbformat": 4,
  "nbformat_minor": 0,
  "metadata": {
    "colab": {
      "provenance": []
    },
    "kernelspec": {
      "name": "python3",
      "display_name": "Python 3"
    },
    "language_info": {
      "name": "python"
    }
  },
  "cells": [
    {
      "cell_type": "code",
      "execution_count": null,
      "metadata": {
        "colab": {
          "base_uri": "https://localhost:8080/"
        },
        "id": "9QzJihL2A3g3",
        "outputId": "d8b530e5-5f06-4afe-98df-eb23b6c0f34b"
      },
      "outputs": [
        {
          "output_type": "stream",
          "name": "stdout",
          "text": [
            "[2, 4, 6, 8, 10]\n"
          ]
        }
      ],
      "source": [
        "\"\"\"\n",
        "実践1: 引数として与えられたリストから、偶数のみを抽出する関数を作成してください。\n",
        "\"\"\"\n",
        "\n",
        "#リストを引数として、偶数のみを抽出しリスト化する関数を定義\n",
        "def choice_even_num(input_num: list):\n",
        "\n",
        "    #偶数を格納するリストを定義\n",
        "    even_nums: list[int] = []\n",
        "\n",
        "    #偶数の場合のみリストに追加する\n",
        "    for value in input_num:\n",
        "        if value % 2 == 0:\n",
        "            even_nums.append(value)\n",
        "\n",
        "    #偶数が格納されたリストを返す\n",
        "    return even_nums\n",
        "\n",
        "#入力用のリストを準備\n",
        "list_num : list[int] = [1, 2, 3, 4, 5, 6, 7, 8, 9, 10]\n",
        "\n",
        "#偶数のみを抽出する関数を呼び出す\n",
        "print(choice_even_num(list_num))"
      ]
    },
    {
      "cell_type": "code",
      "source": [
        "\"\"\"\n",
        "実践2: 辞書の値に対して、その値が10以上の場合は'large'、5以上10未満の場合は'medium'、5未満の場合は'small'と返す関数を作成してください。\n",
        "\"\"\"\n",
        "# 辞書の値に応じてサイズを返す関数を定義\n",
        "def return_size(size: dict) -> dict:\n",
        "\n",
        "    # 戻り値を格納する変数を定義\n",
        "    dict_size: dict = {}\n",
        "\n",
        "    # サイズに応じて辞書に格納\n",
        "    for key, value in size.items():\n",
        "        if value >= 10:\n",
        "            dict_size[key] = \"large\"\n",
        "        elif 5 <= value < 10:\n",
        "            dict_size[key] = \"medium\"\n",
        "        else:\n",
        "            dict_size[key] = \"small\"\n",
        "\n",
        "    return dict_size\n",
        "\n",
        "#入力用の辞書を定義\n",
        "item_data = {\"tea\" : 6, \"coffee\": 3, \"juice\": 12}\n",
        "\n",
        "#サイズを返す関数を呼び出す\n",
        "print(return_size(item_data))"
      ],
      "metadata": {
        "colab": {
          "base_uri": "https://localhost:8080/"
        },
        "id": "TuWKMO_GDtmD",
        "outputId": "522125db-6940-4504-848b-d6a6cd6a6d30"
      },
      "execution_count": null,
      "outputs": [
        {
          "output_type": "stream",
          "name": "stdout",
          "text": [
            "{'tea': 'medium', 'coffee': 'small', 'juice': 'large'}\n"
          ]
        }
      ]
    },
    {
      "cell_type": "code",
      "source": [
        "\"\"\"\n",
        "実践3: 整数のリストと整数の閾値を引数として受け取り、リスト内の要素がその閾値以上の場合は'True'、そうでない場合は'False'を返すリストを作成する関数を作成してください。\n",
        "\"\"\"\n",
        "#リスト内の値が閾値を超えるか判定する関数を定義\n",
        "def judgment_num(num_list: list, limit: int) -> list:\n",
        "\n",
        "    #戻り値を格納するリストを定義\n",
        "    answer_list: list[bool] =[]\n",
        "\n",
        "    #値を閾値と比較し、結果をリストに格納する\n",
        "    for value in num_list:\n",
        "        if value >= limit:\n",
        "            answer_list.append(True)\n",
        "        else:\n",
        "            answer_list.append(False)\n",
        "    return answer_list\n",
        "\n",
        "#入力用の辞書を定義\n",
        "input_list: list[int] = [2, 4, 6, 8, 10, 12, 14, 16, 18, 20]\n",
        "\n",
        "#閾値を超えるか判断する関数を呼び出す\n",
        "print(judgment_num(input_list, 10))"
      ],
      "metadata": {
        "colab": {
          "base_uri": "https://localhost:8080/"
        },
        "id": "ZLm1d1-JT6G6",
        "outputId": "ddf5cbb4-3ad2-4c04-c464-3289391484ab"
      },
      "execution_count": null,
      "outputs": [
        {
          "output_type": "stream",
          "name": "stdout",
          "text": [
            "[False, False, False, False, True, True, True, True, True, True]\n"
          ]
        }
      ]
    },
    {
      "cell_type": "code",
      "source": [
        "\"\"\"\n",
        "実践4: 2つのリストを受け取り、それらの共通する要素のみを含む新しいリストを返す関数を作成してください。\n",
        "ヒント: ある値がとあるリストに格納されているかは、 if varA in List のような記法で実現できます。\n",
        "\"\"\"\n",
        "# 2つのリストから共通する要素を抜き出す関数を定義\n",
        "def get_common_list(list_1: list[int], list_2: list[int]) ->list:\n",
        "\n",
        "    #合致した要素を格納するリストを定義\n",
        "    common_list: list[int] = []\n",
        "\n",
        "    #list_1の要素がlist_2に含まれるかを判定し抽出する\n",
        "    for value in list_1:\n",
        "        if value in list_2:\n",
        "            common_list.append(value)\n",
        "    return common_list\n",
        "\n",
        "\n",
        "#入力用のリストを定義\n",
        "input_list_1: list[int] = [1, 3, 5, 7, 9, 11, 13, 15, 17, 19]\n",
        "input_list_2: list[int] = [2, 3, 5, 7, 11, 13, 17, 19]\n",
        "\n",
        "# 2つのリストから共通する要素を抜き出す関数を呼び出す\n",
        "print(get_common_list(input_list_1, input_list_2))\n"
      ],
      "metadata": {
        "id": "2_8zt1NeITU2",
        "colab": {
          "base_uri": "https://localhost:8080/"
        },
        "outputId": "1717111e-5e32-4eca-cc10-ad77e321574a"
      },
      "execution_count": null,
      "outputs": [
        {
          "output_type": "stream",
          "name": "stdout",
          "text": [
            "[3, 5, 7, 11, 13, 17, 19]\n"
          ]
        }
      ]
    },
    {
      "cell_type": "code",
      "source": [
        "\"\"\"\n",
        "実践5:生徒のユーザー名をキー、点数を値とする辞書を渡したらそのユーザー名と点数(tuple)を1度に返す関数を作成してください。そしてその結果を受け取ってprint(f)してください。\n",
        "\"\"\"\n",
        "# 辞書に格納されているユーザー名と点数をtupleとして返す変数を定義\n",
        "def get_test_result(student_data: dict) -> tuple:\n",
        "\n",
        "    # ユーザー名と点数を格納するtupleを定義\n",
        "    test_result: tuple = ()\n",
        "\n",
        "    # 辞書に含まれるキーと値をtupleに格納する\n",
        "    for key, value in student_data.items():\n",
        "        test_result = (key, value)\n",
        "    return test_result\n",
        "\n",
        "# 入力用の辞書を定義\n",
        "math_score = {\"侍太郎\": 80}\n",
        "\n",
        "# ユーザー名と点数をtupleとして返す関数を呼び出し、結果をプリントする\n",
        "print(f\"{get_test_result(math_score)[0]}さんは{get_test_result(math_score)[1]}点です\")\n",
        "\n"
      ],
      "metadata": {
        "colab": {
          "base_uri": "https://localhost:8080/"
        },
        "id": "Tp1tY0S7ZWNb",
        "outputId": "8ed588b5-b2e2-4802-b18b-27039e35aba0"
      },
      "execution_count": null,
      "outputs": [
        {
          "output_type": "stream",
          "name": "stdout",
          "text": [
            "侍太郎さんは80点です\n"
          ]
        }
      ]
    },
    {
      "cell_type": "code",
      "source": [
        "\"\"\"\n",
        "生徒のユーザー名をキー、点数を値とする辞書を渡したら最高点のユーザー名と点数(tuple)を1度に返す関数を作成してください。そしてその結果を受け取ってprint(f)してください。\n",
        "\"\"\"\n",
        "def get_top_student(students_data:dict) -> tuple:\n",
        "\n",
        "    max_score = max(students_data.values())\n",
        "    top_student: str = \"\"\n",
        "    top_score: int = 0\n",
        "\n",
        "    for key, value in students_data.items():\n",
        "        if value == max_score:\n",
        "            top_student = key\n",
        "            top_score = value\n",
        "\n",
        "    return top_student, top_score\n",
        "\n",
        "student_scores = {\"侍太郎\": 80, \"侍一郎\": 90, \"侍二郎\": 75, \"侍三郎\": 92}\n",
        "\n",
        "top_student_name, top_student_score = get_top_student(student_scores)\n",
        "print(f\"最高点を獲得したのは{top_student_name}で{top_student_score}点です\")"
      ],
      "metadata": {
        "colab": {
          "base_uri": "https://localhost:8080/"
        },
        "id": "9BOMO1ACiYOI",
        "outputId": "28897908-3391-4e3b-9ee9-fd0351636920"
      },
      "execution_count": null,
      "outputs": [
        {
          "output_type": "stream",
          "name": "stdout",
          "text": [
            "最高点を獲得したのは侍三郎で92点です\n"
          ]
        }
      ]
    },
    {
      "cell_type": "code",
      "source": [
        "\"\"\"\n",
        "実践13-6:\n",
        "以下のような関数を定義してください。\n",
        "関数名: calculate_result\n",
        "引数1: num1 (整数)\n",
        "引数2: num2 (整数)\n",
        "引数3: operation (文字列、デフォルト値は \"add\")。デフォルト値の設定方法は講義外です。実務でデフォルト値は頻繁に利用するので調査してみてください。\n",
        "この関数は以下の処理を行います。\n",
        "operation の値が \"add\" の場合、num1 と num2 を足した値を返す\n",
        "operation の値が \"subtract\" の場合、num1 から num2 を引いた値を返す。\n",
        "operation の値が \"multiply\" の場合、num1 と num2 を掛けた値を返す。\n",
        "operation の値が \"divide\" の場合、num1 を num2 で割った値を返す。(num2 が0の場合は \"Cannot divide by zero\" と返す)\n",
        "operation の値がそれ以外の場合は \"Invalid operation\" と返す。\n",
        "また、この関数を使って以下の呼び出しを行い、期待される出力を確認してください。\n",
        "calculate_result(10, 5) --> 15 (加算のデフォルト動作)\n",
        "calculate_result(10, 5, \"subtract\") --> 5 (減算)\n",
        "calculate_result(10, 5, \"multiply\") --> 50 (乗算)\n",
        "calculate_result(10, 2, \"divide\") --> 5.0 (除算)\n",
        "calculate_result(10, 0, \"divide\") --> \"Cannot divide by zero\"\n",
        "calculate_result(10, 5, \"invalid\") --> \"Invalid operation\"\n",
        "\"\"\"\n",
        "# 関数calculate_resultを定義\n",
        "def calculate_result(num1: int, num2: int, operation: str = \"add\" ) -> int | float | str:\n",
        "    # 回答用の変数を定義\n",
        "    answer = \"\"\n",
        "\n",
        "    # operation = addの場合を定義\n",
        "    if operation == \"add\":\n",
        "        answer = num1 + num2\n",
        "\n",
        "    # operation = subtractの場合を定義\n",
        "    elif operation == \"subtract\":\n",
        "        answer = num1 - num2\n",
        "\n",
        "    # operation = multplyの場合を定義\n",
        "    elif operation == \"multiply\":\n",
        "        answer = num1 * num2\n",
        "\n",
        "    # operation = divideの場合を定義\n",
        "    elif operation == \"divide\":\n",
        "        if num2 == 0:\n",
        "            answer = \"Cannot divide by zero\"\n",
        "        else:\n",
        "            answer = num1 / num2\n",
        "\n",
        "    # operationが定義されていない場合メッセージを返す\n",
        "    else:\n",
        "        answer = \"Invalid operation\"\n",
        "\n",
        "    # 回答を返す\n",
        "    return answer\n",
        "\n",
        "# 出力を確認する\n",
        "print(calculate_result(10, 5))\n",
        "print(calculate_result(10, 5, \"subtract\"))\n",
        "print(calculate_result(10, 5, \"multiply\"))\n",
        "print(calculate_result(10, 2, \"divide\"))\n",
        "print(calculate_result(10, 0, \"divide\"))\n",
        "print(calculate_result(10, 5, \"Invalid\"))"
      ],
      "metadata": {
        "colab": {
          "base_uri": "https://localhost:8080/"
        },
        "id": "GxyZ8TFA13zm",
        "outputId": "8568ea56-104a-48bf-d6f3-5bcbd5a2f8e3"
      },
      "execution_count": null,
      "outputs": [
        {
          "output_type": "stream",
          "name": "stdout",
          "text": [
            "15\n",
            "5\n",
            "50\n",
            "5.0\n",
            "Cannot divide by zero\n",
            "Invalid operation\n"
          ]
        }
      ]
    },
    {
      "cell_type": "code",
      "source": [
        "\"\"\"\n",
        "実践13-7:\n",
        "問題: 文字列の置換と長さの取得\n",
        "この問題では、与えられた文字列内の特定の文字を別の文字に置換し、置換後の文字列と文字列の長さを返す関数を作成します。\n",
        "modify_string関数を作成してください。この関数は以下の3つの引数を受け取ります。\n",
        "original_str (str): 元の文字列\n",
        "old_char (str): 置換する文字\n",
        "new_char (str): 置換後の文字\n",
        "\n",
        "modify_string関数内で以下の処理を行ってください。\n",
        "original_str内のold_charをnew_charに置換した新しい文字列modified_strを作成する\n",
        "modified_strの長さlengthを取得する\n",
        "\n",
        "modify_string関数から、modified_strとlengthの2つの値を返してください。\n",
        "\n",
        "以下のようにしてmodify_string関数を呼び出し、戻り値を受け取ってください。\n",
        "result_str, result_length = modify_string(\"Hello, World!\", \"l\", \"x\")\n",
        "print(\"置換後の文字列:\", result_str)\n",
        "print(\"文字列の長さ:\", result_length)\n",
        "出力は次のようになります。\n",
        "Copy code置換後の文字列: Hexxo, Worxd!\n",
        "文字列の長さ: 14\n",
        "\"\"\"\n",
        "# 置換後の文字列と文字列の長さを返す関数を定義する\n",
        "def modify_string(original_str: str, old_char: str, new_char: str) -> str | int:\n",
        "    modified_str: str = original_str.replace(old_char, new_char)\n",
        "    length: int = len(modified_str)\n",
        "    return modified_str, length\n",
        "\n",
        "# 関数を呼び出す\n",
        "result_str, result_length = modify_string(\"Hello, World!\", \"l\", \"x\")\n",
        "print(\"置換後の文字列:\", result_str)\n",
        "print(\"文字列の長さ:\", result_length)\n"
      ],
      "metadata": {
        "colab": {
          "base_uri": "https://localhost:8080/"
        },
        "id": "CLu98h42kBUt",
        "outputId": "270b5876-1123-48b5-bddf-4a6c94467804"
      },
      "execution_count": null,
      "outputs": [
        {
          "output_type": "stream",
          "name": "stdout",
          "text": [
            "置換後の文字列: Hexxo, Worxd!\n",
            "文字列の長さ: 13\n"
          ]
        }
      ]
    }
  ]
}